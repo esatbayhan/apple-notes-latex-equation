{
 "cells": [
  {
   "cell_type": "markdown",
   "metadata": {},
   "source": [
    "# How to write math equations on apple notes?"
   ]
  },
  {
   "cell_type": "code",
   "execution_count": null,
   "metadata": {},
   "outputs": [],
   "source": [
    "def get_formula_from_input() -> str:\n",
    "    return f\"${input('formula:')}$\""
   ]
  },
  {
   "cell_type": "code",
   "execution_count": null,
   "metadata": {},
   "outputs": [],
   "source": [
    "def save_formula_as_image(formula: str, file_path: str) -> str:\n",
    "    \"\"\"\n",
    "    https://stackoverflow.com/a/14163131\n",
    "    \"\"\"\n",
    "    import pylab\n",
    "\n",
    "    fig = pylab.figure()\n",
    "    text = fig.text(0, 0, formula)\n",
    "\n",
    "    # Saving the figure will render the text.\n",
    "    dpi = 300\n",
    "    fig.savefig(file_path, dpi=dpi)\n",
    "\n",
    "    # Now we can work with text's bounding box.\n",
    "    bbox = text.get_window_extent()\n",
    "    width, height = bbox.size / float(dpi) + 0.005\n",
    "    # Adjust the figure size so it can hold the entire text.\n",
    "    fig.set_size_inches((width, height))\n",
    "\n",
    "    # Adjust text's vertical position.\n",
    "    dy = (bbox.ymin/float(dpi))/height\n",
    "    text.set_position((0, -dy))\n",
    "\n",
    "    # Save the adjusted text.\n",
    "    fig.savefig(file_path, dpi=dpi)\n",
    "\n",
    "    return file_path"
   ]
  },
  {
   "cell_type": "code",
   "execution_count": null,
   "metadata": {},
   "outputs": [],
   "source": [
    "def copy_image_to_clipboard(file_path: str) -> bool:\n",
    "  \"\"\"\n",
    "  https://stackoverflow.com/a/76159627\n",
    "  \"\"\"\n",
    "  from Foundation import NSData\n",
    "  from AppKit import NSPasteboardTypePNG, NSPasteboardTypeTIFF, NSPasteboard\n",
    "\n",
    "  format = \"PNG\" # (or \"TIFF\")\n",
    "  filename = \"formula.png\"  # set this to filepath where img is saved\n",
    "  pasteboard = NSPasteboard.generalPasteboard()\n",
    "\n",
    "  image_data = NSData.dataWithContentsOfFile_(filename)\n",
    "  if format not in (\"PNG\", \"TIFF\"):\n",
    "    raise TypeError(\"Invalid format, must be PNG or TIFF\")\n",
    "  format_type = NSPasteboardTypePNG if format == \"PNG\" else NSPasteboardTypeTIFF\n",
    "  pasteboard.clearContents()\n",
    "  return pasteboard.setData_forType_(image_data, format_type)"
   ]
  },
  {
   "cell_type": "code",
   "execution_count": null,
   "metadata": {},
   "outputs": [],
   "source": [
    "def get_text_from_clipboard() -> str:\n",
    "    \"\"\"\n",
    "    https://stackoverflow.com/a/8317794\n",
    "    Updated for python3\n",
    "    \"\"\"\n",
    "    from AppKit import NSPasteboard, NSPasteboardTypeString\n",
    "    pasteboard = NSPasteboard.generalPasteboard()\n",
    "    text = pasteboard.stringForType_(NSPasteboardTypeString)\n",
    "    return text.strip()"
   ]
  },
  {
   "cell_type": "code",
   "execution_count": null,
   "metadata": {},
   "outputs": [],
   "source": [
    "def get_formula_from_clipboard() -> str:\n",
    "    text = get_text_from_clipboard()\n",
    "    return f\"${text}$\""
   ]
  },
  {
   "cell_type": "code",
   "execution_count": null,
   "metadata": {},
   "outputs": [],
   "source": [
    "get_text_from_clipboard()"
   ]
  },
  {
   "cell_type": "code",
   "execution_count": null,
   "metadata": {},
   "outputs": [],
   "source": [
    "def main() -> None:\n",
    "    formula = get_formula_from_input() # from user input\n",
    "    formula = get_formula_from_clipboard() # from clipboard\n",
    "    print(formula)\n",
    "    save_formula_as_image(formula, \"formula.png\")\n",
    "    copy_image_to_clipboard(\"formula.png\")"
   ]
  },
  {
   "cell_type": "code",
   "execution_count": null,
   "metadata": {},
   "outputs": [],
   "source": [
    "main()"
   ]
  }
 ],
 "metadata": {
  "kernelspec": {
   "display_name": ".venv",
   "language": "python",
   "name": "python3"
  },
  "language_info": {
   "codemirror_mode": {
    "name": "ipython",
    "version": 3
   },
   "file_extension": ".py",
   "mimetype": "text/x-python",
   "name": "python",
   "nbconvert_exporter": "python",
   "pygments_lexer": "ipython3",
   "version": "3.9.6"
  }
 },
 "nbformat": 4,
 "nbformat_minor": 2
}
